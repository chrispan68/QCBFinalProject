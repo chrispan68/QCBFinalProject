{
 "cells": [
  {
   "cell_type": "code",
   "execution_count": null,
   "metadata": {},
   "outputs": [],
   "source": [
    "%matplotlib inline\n",
    "import numpy as np\n",
    "from matplotlib import pyplot as plt"
   ]
  },
  {
   "cell_type": "code",
   "execution_count": 40,
   "metadata": {},
   "outputs": [],
   "source": [
    "def processLine(line):\n",
    "    # if line matches the pattern, return width\n",
    "    # if not, return -1\n",
    "    pattern = '#Consensus = '\n",
    "    if line[0:13] == pattern:\n",
    "        lineLen = len(line)\n",
    "        motif = line[13:lineLen-1]\n",
    "        w = len(motif)\n",
    "    else:\n",
    "        w = -1\n",
    "    return w\n",
    "\n",
    "def file2row(samplerfile):\n",
    "    file = open(samplerfile,'r') \n",
    "    lines = file.readlines()\n",
    "    w = -1\n",
    "    i = 0 \n",
    "    row = []\n",
    "    while (w < 0):     \n",
    "        myline = lines[i]\n",
    "        w = processLine(myline)\n",
    "        i += 1\n",
    "    # we have width, now read the next w lines \n",
    "    for j in range(0,w):\n",
    "        row.append(lines[i + j].split(\"\\t\"))\n",
    "    return w, row\n",
    "\n",
    "def writeJSON(jsonname, w,row):\n",
    "    jfile = open(jsonname,'w') \n",
    "    jfile.write('[\\n') \n",
    "    for i in range(0,w):\n",
    "        writeWeights(i,row, jfile, w)\n",
    "    jfile.write(']\\n') \n",
    "    jfile.close() \n",
    "    \n",
    "def writeWeights(i,row, jfile, w): #ACGT --> ATCG\n",
    "    jfile.write('      {\\n') \n",
    "    #A\n",
    "    mystr = '             \"' + 'A' + '\": ' + row[i][0] + ',\\n'\n",
    "    jfile.write(mystr)\n",
    "    mystr = '             \"' + 'T' + '\": ' + row[i][3] + ',\\n'\n",
    "    jfile.write(mystr)\n",
    "    mystr = '             \"' + 'C' + '\": ' + row[i][1] + ',\\n'\n",
    "    jfile.write(mystr)\n",
    "    mystr = '             \"' + 'G' + '\": ' + row[i][2] + '\\n'\n",
    "    jfile.write(mystr)\n",
    "    if i < w:\n",
    "        jfile.write('      },\\n') \n",
    "    else:\n",
    "        jfile.write('      }\\n') \n",
    "        \n",
    "def Sampler2json(samplerfile, jsonfile):\n",
    "    w, row = file2row(samplerfile)\n",
    "    writeJSON(jsonfile, w,row)"
   ]
  },
  {
   "cell_type": "code",
   "execution_count": 80,
   "metadata": {},
   "outputs": [],
   "source": [
    "HOMEDIR = '/Users/vedranaivezic/Documents/Princeton/Princeton20-21/COS455/'\n",
    "HOMEDIR = HOMEDIR + 'CS455_proj/motifSamplerOutput/'\n",
    "Sampler2json(HOMEDIR+'finalshortmotif.mtrx.txt', HOMEDIR+'shortmotif.json')"
   ]
  },
  {
   "cell_type": "code",
   "execution_count": null,
   "metadata": {},
   "outputs": [],
   "source": []
  }
 ],
 "metadata": {
  "kernelspec": {
   "display_name": "Python 3",
   "language": "python",
   "name": "python3"
  },
  "language_info": {
   "codemirror_mode": {
    "name": "ipython",
    "version": 3
   },
   "file_extension": ".py",
   "mimetype": "text/x-python",
   "name": "python",
   "nbconvert_exporter": "python",
   "pygments_lexer": "ipython3",
   "version": "3.9.0"
  }
 },
 "nbformat": 4,
 "nbformat_minor": 4
}
