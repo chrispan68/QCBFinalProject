{
 "cells": [
  {
   "cell_type": "code",
   "execution_count": null,
   "metadata": {},
   "outputs": [],
   "source": [
    "# by Vedrana Ivezic"
   ]
  },
  {
   "cell_type": "code",
   "execution_count": null,
   "metadata": {},
   "outputs": [],
   "source": [
    "%matplotlib inline\n",
    "import numpy as np\n",
    "from matplotlib import pyplot as plt"
   ]
  },
  {
   "cell_type": "code",
   "execution_count": 4,
   "metadata": {},
   "outputs": [],
   "source": [
    "def processLine(line):\n",
    "    # if line matches the pattern, return width\n",
    "    # if not, return -1 \n",
    "    pattern = 'Predicted motif (width '\n",
    "    if line[0:23] == pattern:\n",
    "        k = len(line) - 3\n",
    "        w = int(line[23:k])\n",
    "    else:\n",
    "        w = -1\n",
    "    return w\n",
    "\n",
    "def getRow(line, nuc, row):\n",
    "    row[nuc] = line\n",
    "    if row[nuc][0] != nuc:\n",
    "        raise Exception(\"Sorry, the ACGT order from MITSU is broken\")\n",
    "    return row[nuc].split(\" \")\n",
    "\n",
    "def file2row(MITSUfile):\n",
    "    file = open(MITSUfile,'r') \n",
    "    lines = file.readlines()\n",
    "    w = -1\n",
    "    i = 0 \n",
    "    row = {}\n",
    "    while (w < 0):     \n",
    "        myline = lines[i]\n",
    "        w = processLine(myline)\n",
    "        i += 1\n",
    "    # we have width, now read the next four lines\n",
    "    # they are guaranteed to be in the order ACGT \n",
    "    row['A'] = getRow(lines[i], 'A', row) \n",
    "    row['C'] = getRow(lines[i+1], 'C', row) \n",
    "    row['G'] = getRow(lines[i+2], 'G', row) \n",
    "    row['T'] = getRow(lines[i+3], 'T', row) \n",
    "    return w, row\n",
    "\n",
    "def writeJSON(jsonname, w,row):\n",
    "    jfile = open(jsonname,'w') \n",
    "    jfile.write('[\\n') \n",
    "    for i in range(1,w+1):\n",
    "        writeWeights(i,row, jfile, w)\n",
    "    jfile.write(']\\n') \n",
    "    jfile.close() \n",
    "    \n",
    "def writeWeights(i,row, jfile, w):\n",
    "    jfile.write('      {\\n') \n",
    "    for c in ('A', 'T', 'C'):\n",
    "        mystr = '             \"' + c + '\": ' + row[c][i] + ',\\n'\n",
    "        jfile.write(mystr) \n",
    "    c = 'G'\n",
    "    mystr = '             \"' + c + '\": ' + row[c][i] + '\\n'\n",
    "    jfile.write(mystr) \n",
    "    if i < w:\n",
    "        jfile.write('      },\\n') \n",
    "    else:\n",
    "        jfile.write('      }\\n') \n",
    "        \n",
    "def MITSU2json(mitsufile, jsonfile):\n",
    "    w, row = file2row(mitsufile)\n",
    "    writeJSON(jsonfile, w,row)"
   ]
  },
  {
   "cell_type": "code",
   "execution_count": 11,
   "metadata": {},
   "outputs": [],
   "source": [
    "HOMEDIR = '/Users/vedranaivezic/Documents/Princeton/Princeton20-21/COS455/'\n",
    "HOMEDIR = HOMEDIR + 'CS455_proj/MITSUoutput/'\n",
    "MITSU2json(HOMEDIR+'randomMITSUoutput.txt', HOMEDIR+'randomMITSU.json')"
   ]
  },
  {
   "cell_type": "code",
   "execution_count": null,
   "metadata": {},
   "outputs": [],
   "source": []
  }
 ],
 "metadata": {
  "kernelspec": {
   "display_name": "Python 3",
   "language": "python",
   "name": "python3"
  },
  "language_info": {
   "codemirror_mode": {
    "name": "ipython",
    "version": 3
   },
   "file_extension": ".py",
   "mimetype": "text/x-python",
   "name": "python",
   "nbconvert_exporter": "python",
   "pygments_lexer": "ipython3",
   "version": "3.9.0"
  }
 },
 "nbformat": 4,
 "nbformat_minor": 4
}
