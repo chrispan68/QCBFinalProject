{
 "cells": [
  {
   "cell_type": "code",
   "execution_count": 424,
   "metadata": {},
   "outputs": [],
   "source": [
    "%matplotlib inline\n",
    "import numpy as np\n",
    "from matplotlib import pyplot as plt\n",
    "import numpy"
   ]
  },
  {
   "cell_type": "code",
   "execution_count": 447,
   "metadata": {},
   "outputs": [],
   "source": [
    "# parse input fasta file\n",
    "# extract sequences\n",
    "def parseFasta(fileFasta):\n",
    "    file = open(fileFasta) \n",
    "    lines = file.readlines()\n",
    "    sequences = []\n",
    "    for line in lines:\n",
    "        line = line.rstrip()\n",
    "        if not line.startswith(\">\"):\n",
    "            sequences.append(line)\n",
    "    return sequences\n",
    "\n",
    "# strings must be of same length\n",
    "def hammingDist(string1, string2):\n",
    "    dist = 0\n",
    "    length = len(string1)\n",
    "    for i in range(length):\n",
    "        if string1[i] != string2[i]:\n",
    "            dist += 1\n",
    "    return dist"
   ]
  },
  {
   "cell_type": "code",
   "execution_count": 448,
   "metadata": {},
   "outputs": [],
   "source": [
    "# match query to all substrings of a sequence        \n",
    "def minInSeq (i, query, substrings):\n",
    "    strComp = substrings[i]\n",
    "    dists = []\n",
    "    while (strComp != \"endSeq\"):\n",
    "        dists.append(hammingDist(query,strComp))\n",
    "        i = i + 1\n",
    "        strComp = substrings[i]\n",
    "    minDist = min(dists)\n",
    "    return minDist, i+1\n",
    "\n",
    "# find hamming dist for set of substrings from a sequence \n",
    "def findHDsubstr (j, strScores, substrID, lenSubs, substrings):\n",
    "    query = substrings[j]\n",
    "    while (query != \"endSeq\"):\n",
    "        i = 0 \n",
    "        compSeqID = 0\n",
    "        while (i < lenSubs):\n",
    "            minDist, i = minInSeq(i,query,substrings)\n",
    "            if compSeqID > 8721:\n",
    "                print(compSeqID)\n",
    "            strScores[substrID][compSeqID] = minDist\n",
    "            compSeqID = compSeqID + 1\n",
    "        j = j + 1\n",
    "        query = substrings[j]\n",
    "        substrID = substrID + 1\n",
    "    return j + 1, strScores, substrID, compSeqID       "
   ]
  },
  {
   "cell_type": "code",
   "execution_count": 491,
   "metadata": {},
   "outputs": [],
   "source": [
    "# finds the location of the motif in a sequence\n",
    "# returns the match sequence\n",
    "def locMotif (i, query, substrings):\n",
    "    strComp = substrings[i]\n",
    "    minDists = float('inf')\n",
    "    foundMotif = \"\"\n",
    "    while (strComp != \"endSeq\"):\n",
    "        tempDist = hammingDist(query,strComp)\n",
    "        if tempDist < minDists:\n",
    "            foundMotif = substrings[i]\n",
    "            minDists = tempDist\n",
    "        i = i + 1\n",
    "        strComp = substrings[i]\n",
    "    return foundMotif, i+1\n",
    "\n",
    "def findPWM (motif, matches):\n",
    "    pwm = [[0] * 4 for i in range(len(motif))]\n",
    "    for motInSeq in matches:\n",
    "        index = 0\n",
    "        for c in motInSeq:\n",
    "            if c == 'A':\n",
    "                pwm[index][0] = pwm[index][0] + 1\n",
    "            if c == 'T':\n",
    "                pwm[index][1] = pwm[index][1] + 1\n",
    "            if c == 'C':\n",
    "                pwm[index][2] = pwm[index][2] + 1\n",
    "            if c == 'G':\n",
    "                pwm[index][3] = pwm[index][3] + 1\n",
    "            index = index + 1\n",
    "    return pwm\n",
    "\n",
    "def makeFreq (pwm, numSeqs):\n",
    "    for x in range(0,len(pwm)):\n",
    "        for y in range(0,4):\n",
    "            pwm[x][y] = pwm[x][y] / numSeqs\n",
    "    return pwm"
   ]
  },
  {
   "cell_type": "code",
   "execution_count": 483,
   "metadata": {},
   "outputs": [],
   "source": [
    "# convert to .json\n",
    "def writeJSON(jsonname, w,pwm):\n",
    "    jfile = open(jsonname,'w') \n",
    "    jfile.write('[\\n') \n",
    "    for i in range(0,w):\n",
    "        writeWeights(i,pwm, jfile, w)\n",
    "    jfile.write(']\\n') \n",
    "    jfile.close() \n",
    "    \n",
    "def writeWeights(i,pwm, jfile, w): #ACGT --> ATCG\n",
    "    jfile.write('      {\\n') \n",
    "    mystr = '             \"' + 'A' + '\": ' + str(pwm[i][0]) + ',\\n'\n",
    "    jfile.write(mystr)\n",
    "    mystr = '             \"' + 'T' + '\": ' + str(pwm[i][1]) + ',\\n'\n",
    "    jfile.write(mystr)\n",
    "    mystr = '             \"' + 'C' + '\": ' + str(pwm[i][2]) + ',\\n'\n",
    "    jfile.write(mystr)\n",
    "    mystr = '             \"' + 'G' + '\": ' + str(pwm[i][3]) + '\\n'\n",
    "    jfile.write(mystr)\n",
    "    if i < w:\n",
    "        jfile.write('      },\\n') \n",
    "    else:\n",
    "        jfile.write('      }\\n') "
   ]
  },
  {
   "cell_type": "code",
   "execution_count": 499,
   "metadata": {},
   "outputs": [],
   "source": [
    "def bruteMotifFinder (width, seq, jfile) :\n",
    "    seqs = parseFasta(seq)\n",
    "    # store all substr sequences of width w for each sequence\n",
    "    substrings = []\n",
    "    substrings2 =[]\n",
    "    for seq in seqs:\n",
    "        i = 0\n",
    "        endSearch = len(seq) - width + 1\n",
    "        while (i < endSearch):\n",
    "            substrings.append(seq[i:i+width])\n",
    "            substrings2.append(seq[i:i+width])\n",
    "            i = i + 1\n",
    "        substrings.append(\"endSeq\")\n",
    "        \n",
    "    numSeqs = len(seqs)\n",
    "    lenSubs = len(substrings)\n",
    "    numSubstrs = len(substrings2)\n",
    "    strScores = [[0] * numSeqs for i in range(numSubstrs)]\n",
    "    j = 0\n",
    "    substrID = 0\n",
    "    while (j < lenSubs):\n",
    "        j, strScores, substrID, compSeqID = findHDsubstr(j, strScores, substrID, lenSubs, substrings)\n",
    "    \n",
    "    # find total scores for each substr\n",
    "    finScores = []\n",
    "    for substr in range(0,len(strScores)):\n",
    "        finScores.append(sum(strScores[substr]))\n",
    "        \n",
    "    # find substring with the minimal Hamming distance\n",
    "    minHamDist = min(finScores)\n",
    "    indexMinHD = finScores.index(minHamDist)\n",
    "    motif = substrings2[indexMinHD]\n",
    "    \n",
    "    # now that we have the motif, get the PWM \n",
    "    # PWM in order of A,T,C,G\n",
    "\n",
    "    # get the motif matches from each sequence\n",
    "    k = 0\n",
    "    matches = []\n",
    "    while (k < lenSubs):\n",
    "        foundMotif, k = locMotif(k, motif, substrings)\n",
    "        matches.append(foundMotif)\n",
    "        \n",
    "    temppwm = findPWM(motif, matches)\n",
    "    pwm = makeFreq(temppwm, numSeqs)\n",
    "    #pwm\n",
    "    \n",
    "    #HOMEDIR = '/Users/vedranaivezic/Documents/Princeton/Princeton20-21/COS455/'\n",
    "    #HOMEDIR = HOMEDIR + 'CS455_proj/'\n",
    "    writeJSON(jfile, width,pwm)\n"
   ]
  },
  {
   "cell_type": "code",
   "execution_count": 510,
   "metadata": {},
   "outputs": [],
   "source": [
    "HOMEDIR = '/Users/vedranaivezic/Documents/Princeton/Princeton20-21/COS455/'\n",
    "HOMEDIR = HOMEDIR + 'CS455_proj/QCBFinalProject/tandem_repeat3/'\n",
    "seq = HOMEDIR + 'tandrep3.fasta'\n",
    "jsonFile = HOMEDIR + 'BruteSub.json'\n",
    "width = 10\n",
    "\n",
    "bruteMotifFinder(width, seq, jsonFile)"
   ]
  },
  {
   "cell_type": "code",
   "execution_count": null,
   "metadata": {},
   "outputs": [],
   "source": []
  },
  {
   "cell_type": "code",
   "execution_count": null,
   "metadata": {},
   "outputs": [],
   "source": []
  },
  {
   "cell_type": "code",
   "execution_count": null,
   "metadata": {},
   "outputs": [],
   "source": [
    "# misc below"
   ]
  },
  {
   "cell_type": "code",
   "execution_count": 412,
   "metadata": {},
   "outputs": [],
   "source": [
    "# set desired width\n",
    "width = 10"
   ]
  },
  {
   "cell_type": "code",
   "execution_count": 413,
   "metadata": {},
   "outputs": [],
   "source": [
    "seqs = parseFasta('./CS455_proj/QCBFinalProject/control/data.fa')"
   ]
  },
  {
   "cell_type": "code",
   "execution_count": 414,
   "metadata": {},
   "outputs": [],
   "source": [
    "# store all substr sequences of width w for each sequence\n",
    "substrings = []\n",
    "substrings2 =[]\n",
    "for seq in seqs:\n",
    "    i = 0\n",
    "    endSearch = len(seq) - width + 1\n",
    "    while (i < endSearch):\n",
    "        substrings.append(seq[i:i+width])\n",
    "        substrings2.append(seq[i:i+width])\n",
    "        i = i + 1\n",
    "    substrings.append(\"endSeq\")"
   ]
  },
  {
   "cell_type": "code",
   "execution_count": 416,
   "metadata": {},
   "outputs": [],
   "source": [
    "numSeqs = len(seqs)\n",
    "lenSubs = len(substrings)\n",
    "numSubstrs = len(substrings2)\n",
    "strScores = [[0] * numSeqs for i in range(numSubstrs)]\n",
    "j = 0\n",
    "substrID = 0\n",
    "while (j < lenSubs):\n",
    "    j, strScores, substrID, compSeqID = findHDsubstr(j, strScores, substrID, lenSubs)"
   ]
  },
  {
   "cell_type": "code",
   "execution_count": 417,
   "metadata": {},
   "outputs": [],
   "source": [
    "# find total scores for each substr\n",
    "finScores = []\n",
    "for substr in range(0,len(strScores)):\n",
    "    finScores.append(sum(strScores[substr]))"
   ]
  },
  {
   "cell_type": "code",
   "execution_count": 419,
   "metadata": {},
   "outputs": [
    {
     "data": {
      "text/plain": [
       "'ACTATAAAGA'"
      ]
     },
     "execution_count": 419,
     "metadata": {},
     "output_type": "execute_result"
    }
   ],
   "source": [
    "# find substring with the minimal Hamming distance\n",
    "minHamDist = min(finScores)\n",
    "indexMinHD = finScores.index(minHamDist)\n",
    "motif = substrings2[indexMinHD]\n",
    "motif"
   ]
  },
  {
   "cell_type": "code",
   "execution_count": 421,
   "metadata": {},
   "outputs": [],
   "source": [
    "# now that we have the motif, get the PWM \n",
    "# PWM in order of A,T,C,G\n",
    "\n",
    "# get the motif matches from each sequence\n",
    "k = 0\n",
    "matches = []\n",
    "while (k < lenSubs):\n",
    "    foundMotif, k = locMotif(k, motif)\n",
    "    matches.append(foundMotif)"
   ]
  },
  {
   "cell_type": "code",
   "execution_count": 422,
   "metadata": {},
   "outputs": [
    {
     "data": {
      "text/plain": [
       "[[0.965, 0.01, 0.015, 0.01],\n",
       " [0.005, 0.005, 0.98, 0.01],\n",
       " [0.01, 0.96, 0.02, 0.01],\n",
       " [0.99, 0.0, 0.0, 0.01],\n",
       " [0.005, 0.99, 0.0, 0.005],\n",
       " [0.955, 0.015, 0.015, 0.015],\n",
       " [0.97, 0.01, 0.01, 0.01],\n",
       " [0.975, 0.02, 0.005, 0.0],\n",
       " [0.005, 0.02, 0.005, 0.97],\n",
       " [0.96, 0.02, 0.01, 0.01]]"
      ]
     },
     "execution_count": 422,
     "metadata": {},
     "output_type": "execute_result"
    }
   ],
   "source": [
    "temppwm = findPWM(motif)\n",
    "pwm = makeFreq(temppwm, numSeqs)\n",
    "#pwm"
   ]
  },
  {
   "cell_type": "code",
   "execution_count": 423,
   "metadata": {},
   "outputs": [],
   "source": [
    "HOMEDIR = '/Users/vedranaivezic/Documents/Princeton/Princeton20-21/COS455/'\n",
    "HOMEDIR = HOMEDIR + 'CS455_proj/'\n",
    "writeJSON(HOMEDIR+'controlBruteSub.json', width,pwm)"
   ]
  },
  {
   "cell_type": "code",
   "execution_count": null,
   "metadata": {},
   "outputs": [],
   "source": []
  }
 ],
 "metadata": {
  "kernelspec": {
   "display_name": "Python 3",
   "language": "python",
   "name": "python3"
  },
  "language_info": {
   "codemirror_mode": {
    "name": "ipython",
    "version": 3
   },
   "file_extension": ".py",
   "mimetype": "text/x-python",
   "name": "python",
   "nbconvert_exporter": "python",
   "pygments_lexer": "ipython3",
   "version": "3.9.0"
  }
 },
 "nbformat": 4,
 "nbformat_minor": 4
}
